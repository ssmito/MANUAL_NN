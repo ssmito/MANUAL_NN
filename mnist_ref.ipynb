{
 "cells": [
  {
   "cell_type": "code",
   "execution_count": 1,
   "metadata": {},
   "outputs": [],
   "source": [
    "import torchvision\n",
    "import matplotlib.pyplot as plt\n",
    "import torch\n",
    "from torch import nn\n",
    "import torch.nn.functional as F\n",
    "import torchvision.transforms as transforms\n",
    "from torch.utils.data import random_split\n",
    "root = './MNIST/'\n",
    "\n"
   ]
  },
  {
   "cell_type": "code",
   "execution_count": 2,
   "metadata": {},
   "outputs": [],
   "source": [
    "dataset = torchvision.datasets.MNIST(root = root, train = True, transform = transforms.ToTensor())\n",
    "\n",
    "train_size=0.9*len(dataset)\n",
    "val_size=0.1*len(dataset)\n",
    "train_dataset, val_dataset = random_split(dataset, [int(train_size),int(val_size) ])"
   ]
  },
  {
   "cell_type": "code",
   "execution_count": 43,
   "metadata": {},
   "outputs": [],
   "source": [
    "input_size=784\n",
    "inner_size=128\n",
    "output_size=64\n",
    "cat_size=10\n",
    "\n",
    "class reference_nn(nn.Module):\n",
    "    def __init__(self):\n",
    "        super(reference_nn, self).__init__()\n",
    "        self.flatten=nn.Flatten()\n",
    "        self.relu_stack=nn.Sequential(\n",
    "                nn.Linear(input_size,inner_size),\n",
    "                nn.ReLU(),\n",
    "                nn.Linear(inner_size, cat_size),\n",
    "                # nn.ReLU(),\n",
    "                # nn.Linear(output_size,cat_size),\n",
    "                # nn.Softmax()\n",
    "        )\n",
    "    \n",
    "    def forward(self, x):\n",
    "        x=self.flatten(x)\n",
    "        x=self.relu_stack(x)\n",
    "        return x\n",
    "    "
   ]
  },
  {
   "cell_type": "code",
   "execution_count": 44,
   "metadata": {},
   "outputs": [],
   "source": [
    "model = reference_nn()\n",
    "for p in model.parameters():\n",
    "    p.requires_grad = True"
   ]
  },
  {
   "cell_type": "code",
   "execution_count": 45,
   "metadata": {},
   "outputs": [
    {
     "data": {
      "text/plain": [
       "reference_nn(\n",
       "  (flatten): Flatten(start_dim=1, end_dim=-1)\n",
       "  (relu_stack): Sequential(\n",
       "    (0): Linear(in_features=784, out_features=128, bias=True)\n",
       "    (1): ReLU()\n",
       "    (2): Linear(in_features=128, out_features=10, bias=True)\n",
       "  )\n",
       ")"
      ]
     },
     "execution_count": 45,
     "metadata": {},
     "output_type": "execute_result"
    }
   ],
   "source": [
    "model"
   ]
  },
  {
   "cell_type": "code",
   "execution_count": 46,
   "metadata": {},
   "outputs": [
    {
     "name": "stdout",
     "output_type": "stream",
     "text": [
      "loss = 2.421225070953369\n",
      "loss = 2.293924331665039\n",
      "loss = 0.03874831274151802\n",
      "loss = 0.5641096830368042\n",
      "loss = 0.008056524209678173\n",
      "loss = 0.2339446246623993\n",
      "loss = 0.018248993903398514\n",
      "loss = 0.29236647486686707\n",
      "loss = 0.0029667671769857407\n",
      "loss = 0.27665361762046814\n",
      "loss = 5.769562994828448e-05\n",
      "loss = 0.20653143525123596\n",
      "loss = 0.011927947402000427\n",
      "loss = 0.051590584218502045\n",
      "loss = 0.039083003997802734\n",
      "loss = 0.1491791158914566\n",
      "loss = 0.0015425699530169368\n",
      "loss = 0.23782414197921753\n",
      "loss = 0.3266736567020416\n",
      "loss = 0.29499179124832153\n"
     ]
    }
   ],
   "source": [
    "lr = 0.01\n",
    "iteration = 0\n",
    "steps=50000\n",
    "loss_steps=50\n",
    "\n",
    "# for img, label in train_dataset:\n",
    "for i in range(steps):\n",
    "    len_dataset=len(train_dataset)\n",
    "    index = torch.randint(low=1, high=len_dataset, size=())\n",
    "    row=train_dataset.__getitem__(index)\n",
    "    # print(img)\n",
    "    # print(label)\n",
    "    out=model.forward(row[0])\n",
    "    # loss = nll_loss(out,label)\n",
    "    loss = F.cross_entropy(out.squeeze(),torch.tensor(row[1]))\n",
    "    # loss=F.nll_loss(out.squeeze(),torch.tensor(row[1]))\n",
    "    # print(loss)\n",
    "    \n",
    "\n",
    "    for p in model.parameters():\n",
    "        p.grad = None\n",
    "\n",
    "    loss.backward()\n",
    "\n",
    "    #update parameters\n",
    "    for p in model.parameters():\n",
    "        p.data += -lr*p.grad\n",
    "        # print(p.data,'*****************', p.grad)\n",
    "\n",
    "    if i % 5000 == 0:\n",
    "        print(f'loss = {loss.item()}')\n",
    "\n",
    "    if i % 5000 == 0:\n",
    "        # print(loss)\n",
    "        with torch.no_grad():\n",
    "            losses=torch.zeros(loss_steps)\n",
    "            for j in range(loss_steps):\n",
    "                index2 = torch.randint(low=1, high=len_dataset, size=())\n",
    "                row_loss=train_dataset.__getitem__(index2)\n",
    "                out_loss = out=model(row_loss[0])\n",
    "                losses[j] = F.cross_entropy(out_loss.squeeze(),torch.tensor(row_loss[1]))\n",
    "                # losses[j] = F.nll_loss(out_loss.squeeze(),torch.tensor(row_loss[1]), reduction='sum')\n",
    "            print(f'loss = {losses.mean()}')\n",
    "            \n",
    "\n",
    "    if i >=1000000:\n",
    "        break"
   ]
  },
  {
   "cell_type": "code",
   "execution_count": 42,
   "metadata": {},
   "outputs": [
    {
     "name": "stdout",
     "output_type": "stream",
     "text": [
      "tensor([[ 3.6072,  6.4402,  2.2406,  5.1061,  3.6727, 14.6332,  5.9396,  2.3988,\n",
      "          1.1703, -0.7150, -1.4897, -0.2572, -0.4459, -0.9544, -0.7964, -0.9591,\n",
      "         -0.6712, -0.2258, -0.3578,  0.0525, -0.5897, -0.7403, -1.1722, -0.8476,\n",
      "         -0.8254, -1.2614, -0.2777, -0.5400, -0.3789, -0.8311, -0.9581, -1.2010,\n",
      "         -0.6795, -0.9851, -0.5143, -0.1043, -1.4727, -0.4688, -1.1205, -0.5959,\n",
      "         -0.7447, -1.3399, -1.2768, -0.5041, -0.9765, -0.7415, -0.3949, -0.0321,\n",
      "         -0.0447, -0.8814, -0.0989, -0.8222, -0.5357, -0.8900, -0.9372, -0.0376,\n",
      "         -1.0799, -1.6189, -0.5954, -0.3856, -1.2283, -1.2079, -0.3176, -0.4483]])\n",
      "<class 'torch.Tensor'>\n",
      "5\n"
     ]
    },
    {
     "data": {
      "image/png": "[encoded data removed]",
      "text/plain": [
       "<Figure size 640x480 with 1 Axes>"
      ]
     },
     "metadata": {},
     "output_type": "display_data"
    }
   ],
   "source": [
    "x= val_dataset.__getitem__(65)\n",
    "with torch.no_grad():\n",
    "    output =model(x[0])\n",
    "    print(output)\n",
    "    print(type(output))\n",
    "    print(torch.argmax(F.softmax(output,1)).item())\n",
    "plt.imshow(x[0].squeeze());"
   ]
  },
  {
   "cell_type": "code",
   "execution_count": 30,
   "metadata": {},
   "outputs": [
    {
     "name": "stderr",
     "output_type": "stream",
     "text": [
      "/tmp/ipykernel_2219351/2347934225.py:1: UserWarning: Implicit dimension choice for softmax has been deprecated. Change the call to include dim=X as an argument.\n",
      "  F.softmax(torch.tensor([-4.3836, -0.6722, -2.1300,  9.6365, -4.3640,  2.8266, -5.5407, -0.8063,1.3958,  4.1595]))\n"
     ]
    },
    {
     "data": {
      "text/plain": [
       "tensor([8.1043e-07, 3.3155e-05, 7.7168e-06, 9.9441e-01, 8.2647e-07, 1.0966e-03,\n",
       "        2.5480e-07, 2.8994e-05, 2.6223e-04, 4.1585e-03])"
      ]
     },
     "execution_count": 30,
     "metadata": {},
     "output_type": "execute_result"
    }
   ],
   "source": [
    "F.softmax(torch.tensor([-4.3836, -0.6722, -2.1300,  9.6365, -4.3640,  2.8266, -5.5407, -0.8063,1.3958,  4.1595]))"
   ]
  },
  {
   "cell_type": "code",
   "execution_count": 54,
   "metadata": {},
   "outputs": [
    {
     "name": "stderr",
     "output_type": "stream",
     "text": [
      "/tmp/ipykernel_170875/3224145034.py:1: UserWarning: Implicit dimension choice for softmax has been deprecated. Change the call to include dim=X as an argument.\n",
      "  torch.argmax(F.softmax(torch.tensor([-4.3836, -0.6722, -2.1300,  9.6365, -4.3640,  2.8266, -5.5407, -0.8063,1.3958,  4.1595])))\n"
     ]
    },
    {
     "data": {
      "text/plain": [
       "tensor(3)"
      ]
     },
     "execution_count": 54,
     "metadata": {},
     "output_type": "execute_result"
    }
   ],
   "source": [
    "torch.argmax(F.softmax(torch.tensor([-4.3836, -0.6722, -2.1300,  9.6365, -4.3640,  2.8266, -5.5407, -0.8063,1.3958,  4.1595])))"
   ]
  },
  {
   "cell_type": "code",
   "execution_count": null,
   "metadata": {},
   "outputs": [],
   "source": []
  }
 ],
 "metadata": {
  "kernelspec": {
   "display_name": "torch_tests",
   "language": "python",
   "name": "python3"
  },
  "language_info": {
   "codemirror_mode": {
    "name": "ipython",
    "version": 3
   },
   "file_extension": ".py",
   "mimetype": "text/x-python",
   "name": "python",
   "nbconvert_exporter": "python",
   "pygments_lexer": "ipython3",
   "version": "3.10.14"
  }
 },
 "nbformat": 4,
 "nbformat_minor": 2
}
