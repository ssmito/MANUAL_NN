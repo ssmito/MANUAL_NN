{
 "cells": [
  {
   "cell_type": "code",
   "execution_count": 3,
   "metadata": {},
   "outputs": [],
   "source": [
    "import torchvision\n",
    "import matplotlib.pyplot as plt\n",
    "import seaborn as sns\n",
    "import torchvision.transforms as transforms\n",
    "import plotly.graph_objects as go\n",
    "from plotly.subplots import make_subplots\n",
    "from torch.utils.data import DataLoader\n",
    "import torch\n",
    "import torch.nn.functional as F"
   ]
  },
  {
   "cell_type": "markdown",
   "metadata": {},
   "source": [
    "# Dataset"
   ]
  },
  {
   "cell_type": "code",
   "execution_count": 2,
   "metadata": {},
   "outputs": [
    {
     "data": {
      "image/png": "[encoded data removed]",
      "text/plain": [
       "<Figure size 640x480 with 1 Axes>"
      ]
     },
     "metadata": {},
     "output_type": "display_data"
    }
   ],
   "source": [
    "root = './MNIST/'\n",
    "dataset = torchvision.datasets.MNIST(root = root, train = True, transform = transforms.ToTensor())\n",
    "x= dataset.__getitem__(1)\n",
    "plt.imshow(x[0].squeeze(), cmap='gray');"
   ]
  },
  {
   "cell_type": "code",
   "execution_count": 10,
   "metadata": {},
   "outputs": [],
   "source": [
    "from torch.utils.data import random_split\n",
    "batch_size=10\n",
    "train_size=0.9*len(dataset)\n",
    "val_size=0.1*len(dataset)\n",
    "train_dataset, val_dataset = random_split(dataset, [int(train_size),int(val_size) ])\n",
    "\n",
    "# batching\n",
    "subset_loader = DataLoader(train_dataset, batch_size=batch_size, shuffle=True)\n",
    "\n",
    "val_loader = DataLoader(val_dataset, batch_size=batch_size, shuffle=True)\n",
    "validation_iter = iter(val_loader)\n"
   ]
  },
  {
   "cell_type": "markdown",
   "metadata": {},
   "source": [
    "# Layers"
   ]
  },
  {
   "cell_type": "code",
   "execution_count": 4,
   "metadata": {},
   "outputs": [],
   "source": [
    "class linear:\n",
    "    def __init__(self, fan_in, fan_out,generator, bias=True, name='linear', ):\n",
    "        self.name=name\n",
    "        # self.w = torch.randn(fan_in, fan_out)\n",
    "        # self.w = torch.randn(fan_in, fan_out)/fan_in**0.5 #from normal distribution\n",
    "        # self.w = torch.rand(fan_in, fan_out, generator=generator)/fan_in**0.5  #from uniform distribution -> pytorch uses uniform i believe\n",
    "        self.w = ((2*(torch.rand(fan_in, fan_out, generator=generator)) )-1) /fan_in**0.5 #-> sampled between -1 and 1\n",
    "        self.bias = torch.randn(fan_out,generator=generator) if bias else None\n",
    "    def __call__(self, x):\n",
    "        # print(x.shape)\n",
    "        self.out = x @ self.w\n",
    "        if self.bias is not None:\n",
    "            self.out += self.bias\n",
    "        return self.out\n",
    "\n",
    "    def backwards(self):\n",
    "        return 'we are here'\n",
    "    \n",
    "\n",
    "    def parameters(self):\n",
    "        return [self.w] + ([] if self.bias is None else [self.bias])\n",
    "class relu:\n",
    "    def __init__(self, name='relu'):\n",
    "        self.name=name\n",
    "        self.out = None\n",
    "    def __call__(self,x):\n",
    "        # self.out =torch.where(x>0, x, 0.0)\n",
    "        self.out= torch.maximum(x, torch.zeros_like(x))\n",
    "        return self.out\n",
    "    def parameters(self):\n",
    "        return []\n",
    "class tanh:\n",
    "    def __call__(self,x):\n",
    "        self.out = torch.tanh(x)\n",
    "        return self.out\n",
    "    def parameters(self):\n",
    "        return []\n",
    "class flatten:   \n",
    "    def __call__(self, x):\n",
    "        self.out = x.view(x.size(0), -1) #keep the batch dimension\n",
    "        # self.out=torch.flatten(x)\n",
    "        return self.out\n",
    "    def parameters(self):\n",
    "        return []\n",
    "class softmax:\n",
    "    def __init__(self, beta=1.0):\n",
    "        self.beta=beta\n",
    "    def __call__(self, x):\n",
    "        max = torch.max(x)\n",
    "        x=x-max\n",
    "        self.out = torch.exp(x)/torch.sum(torch.exp(x))\n",
    "        return self.out\n",
    "    def parameters(self):\n",
    "        return []"
   ]
  },
  {
   "cell_type": "markdown",
   "metadata": {},
   "source": [
    "# Model"
   ]
  },
  {
   "cell_type": "code",
   "execution_count": 5,
   "metadata": {},
   "outputs": [],
   "source": [
    "input_size=784\n",
    "inner_size=128\n",
    "output_size=64\n",
    "cat_size=10\n",
    "generator=torch.Generator().manual_seed(23)\n",
    "layers = [\n",
    "    flatten(),\n",
    "    linear(input_size,inner_size, name='linear_1',generator=generator),\n",
    "    tanh(),\n",
    "    linear(inner_size, cat_size,name='linear_3',generator=generator)\n",
    "]\n",
    "parameters = [p for layer in layers for p in layer.parameters()]\n",
    "for p in parameters:\n",
    "    p.requires_grad=True"
   ]
  },
  {
   "cell_type": "code",
   "execution_count": 7,
   "metadata": {},
   "outputs": [],
   "source": [
    "def forward(layers, x): \n",
    "    # print(x.shape)\n",
    "    for layer in layers:\n",
    "        x=layer(x)\n",
    "        # print(layer.__class__)\n",
    "\n",
    "        # print(x.shape)\n",
    "    return x"
   ]
  },
  {
   "cell_type": "markdown",
   "metadata": {},
   "source": [
    "# Train"
   ]
  },
  {
   "cell_type": "code",
   "execution_count": 12,
   "metadata": {},
   "outputs": [
    {
     "name": "stdout",
     "output_type": "stream",
     "text": [
      "step = 0, val loss over 5 batches = 0.03017839789390564\n",
      "step = 500, val loss over 5 batches = 0.009712292812764645\n",
      "step = 1000, val loss over 5 batches = 0.008123970590531826\n",
      "step = 1500, val loss over 5 batches = 0.003947816323488951\n",
      "step = 2000, val loss over 5 batches = 0.002981896046549082\n",
      "step = 2500, val loss over 5 batches = 0.004127296153455973\n",
      "step = 3000, val loss over 5 batches = 0.0034784036688506603\n",
      "step = 3500, val loss over 5 batches = 0.004050312098115683\n",
      "step = 4000, val loss over 5 batches = 0.004507785197347403\n",
      "step = 4500, val loss over 5 batches = 0.004029728937894106\n",
      "step = 5000, val loss over 5 batches = 0.001986735500395298\n"
     ]
    }
   ],
   "source": [
    "lr = 0.01\n",
    "\n",
    "steps=40000\n",
    "\n",
    "loss_steps=500\n",
    "\n",
    "loss_val_batches = 5\n",
    "\n",
    "i=0\n",
    "\n",
    "for batch_x, batch_y in subset_loader:\n",
    "\n",
    "    # print (type(batch_x))\n",
    "    # print (type(batch_y))\n",
    "\n",
    "    len_dataset=len(train_dataset)\n",
    "    index = torch.randint(low=1, high=len_dataset, size=(), generator=generator)\n",
    "\n",
    "    row=train_dataset.__getitem__(index)\n",
    "    # out=forward(layers,row[0])\n",
    "    out=forward(layers,batch_x.squeeze())\n",
    "\n",
    "    # loss = F.cross_entropy(out.squeeze(),torch.tensor(row[1]))\n",
    "    loss = F.cross_entropy(out.squeeze(),batch_y)\n",
    "    \n",
    "    for layer in layers:\n",
    "        if not isinstance(layer, flatten):\n",
    "            layer.out.retain_grad() \n",
    "            \n",
    "    for p in parameters:\n",
    "        p.grad = None\n",
    "    loss.backward()\n",
    "       \n",
    "    #update parameters\n",
    "    for p in parameters:\n",
    "        p.data += -lr*p.grad\n",
    "        \n",
    "             \n",
    "    if i % loss_steps == 0:\n",
    "        with torch.no_grad():\n",
    "            losses=torch.zeros(loss_steps)\n",
    "            for j in range(loss_val_batches):\n",
    "                val_batch=next(validation_iter)\n",
    "                val_samples=val_batch[0]\n",
    "                val_truth=val_batch[1]\n",
    "                # print(sample.shape)\n",
    "                out_loss = out=forward(layers, val_samples)\n",
    "                losses[j] = F.cross_entropy(out_loss,val_truth)\n",
    "            print(f'step = {i}, val loss over {loss_val_batches} batches = {losses.mean()}')\n",
    "\n",
    "\n",
    "    i+=1\n",
    "    # break"
   ]
  },
  {
   "cell_type": "code",
   "execution_count": null,
   "metadata": {},
   "outputs": [],
   "source": []
  }
 ],
 "metadata": {
  "kernelspec": {
   "display_name": "torch_tests",
   "language": "python",
   "name": "python3"
  },
  "language_info": {
   "codemirror_mode": {
    "name": "ipython",
    "version": 3
   },
   "file_extension": ".py",
   "mimetype": "text/x-python",
   "name": "python",
   "nbconvert_exporter": "python",
   "pygments_lexer": "ipython3",
   "version": "3.10.14"
  }
 },
 "nbformat": 4,
 "nbformat_minor": 2
}
